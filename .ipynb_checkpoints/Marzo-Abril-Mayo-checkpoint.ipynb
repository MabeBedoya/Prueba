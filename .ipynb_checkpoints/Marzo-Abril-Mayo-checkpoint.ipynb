{
 "cells": [
  {
   "cell_type": "code",
   "execution_count": 2,
   "metadata": {},
   "outputs": [],
   "source": [
    "import pandas as pd\n",
    "import numpy as np"
   ]
  },
  {
   "cell_type": "markdown",
   "metadata": {},
   "source": [
    "<H3> Lectura archivo despachos."
   ]
  },
  {
   "cell_type": "code",
   "execution_count": 3,
   "metadata": {},
   "outputs": [
    {
     "data": {
      "text/html": [
       "<div>\n",
       "<style scoped>\n",
       "    .dataframe tbody tr th:only-of-type {\n",
       "        vertical-align: middle;\n",
       "    }\n",
       "\n",
       "    .dataframe tbody tr th {\n",
       "        vertical-align: top;\n",
       "    }\n",
       "\n",
       "    .dataframe thead th {\n",
       "        text-align: right;\n",
       "    }\n",
       "</style>\n",
       "<table border=\"1\" class=\"dataframe\">\n",
       "  <thead>\n",
       "    <tr style=\"text-align: right;\">\n",
       "      <th></th>\n",
       "      <th>LOCAL</th>\n",
       "      <th>FECHA_DESPACHO</th>\n",
       "      <th>NUMERO_PALLET</th>\n",
       "      <th>COD_BARRAS</th>\n",
       "      <th>UNIDAD_MANEJO</th>\n",
       "      <th>CANTIDAD</th>\n",
       "      <th>UBICACION</th>\n",
       "      <th>NOM_DIVISION</th>\n",
       "      <th>NOM_BODEGA</th>\n",
       "      <th>NOM_DEPTO</th>\n",
       "      <th>NOM_CLASIFICACION</th>\n",
       "      <th>NOM_CLASIFICACION_AUX</th>\n",
       "    </tr>\n",
       "  </thead>\n",
       "  <tbody>\n",
       "    <tr>\n",
       "      <th>0</th>\n",
       "      <td>106</td>\n",
       "      <td>2019-04-21</td>\n",
       "      <td>2010411911848</td>\n",
       "      <td>722008000218</td>\n",
       "      <td>72.0</td>\n",
       "      <td>1.0</td>\n",
       "      <td>1150280001</td>\n",
       "      <td>1-ABARROTES</td>\n",
       "      <td>10-ABASTOS</td>\n",
       "      <td>10-COMESTIBLES I</td>\n",
       "      <td>1072-ATUNES,SARDINAS,MARISCOS,CARNICOS</td>\n",
       "      <td>1072-ATUNES,SARDINAS,MARISCOS,CARNICOS</td>\n",
       "    </tr>\n",
       "    <tr>\n",
       "      <th>1</th>\n",
       "      <td>109</td>\n",
       "      <td>2019-04-21</td>\n",
       "      <td>2010411745887</td>\n",
       "      <td>7862106454803</td>\n",
       "      <td>27.0</td>\n",
       "      <td>2.0</td>\n",
       "      <td>4020030001</td>\n",
       "      <td>1-ABARROTES</td>\n",
       "      <td>10-ABASTOS</td>\n",
       "      <td>11-JUGOS Y BEBIDAS</td>\n",
       "      <td>1116-COCOA</td>\n",
       "      <td>1116-COCOA</td>\n",
       "    </tr>\n",
       "  </tbody>\n",
       "</table>\n",
       "</div>"
      ],
      "text/plain": [
       "   LOCAL FECHA_DESPACHO  NUMERO_PALLET     COD_BARRAS  UNIDAD_MANEJO  \\\n",
       "0    106     2019-04-21  2010411911848   722008000218           72.0   \n",
       "1    109     2019-04-21  2010411745887  7862106454803           27.0   \n",
       "\n",
       "   CANTIDAD   UBICACION NOM_DIVISION  NOM_BODEGA           NOM_DEPTO  \\\n",
       "0       1.0  1150280001  1-ABARROTES  10-ABASTOS    10-COMESTIBLES I   \n",
       "1       2.0  4020030001  1-ABARROTES  10-ABASTOS  11-JUGOS Y BEBIDAS   \n",
       "\n",
       "                        NOM_CLASIFICACION  \\\n",
       "0  1072-ATUNES,SARDINAS,MARISCOS,CARNICOS   \n",
       "1                              1116-COCOA   \n",
       "\n",
       "                    NOM_CLASIFICACION_AUX  \n",
       "0  1072-ATUNES,SARDINAS,MARISCOS,CARNICOS  \n",
       "1                              1116-COCOA  "
      ]
     },
     "metadata": {},
     "output_type": "display_data"
    },
    {
     "data": {
      "text/plain": [
       "(6334327, 12)"
      ]
     },
     "metadata": {},
     "output_type": "display_data"
    }
   ],
   "source": [
    "TABASTOS2019=pd.read_csv(\"DESPACHOS_2019.csv\")\n",
    "\n",
    "# Elimina suministros\n",
    "TABASTOS2019=TABASTOS2019.drop(TABASTOS2019[TABASTOS2019[\"NOM_DEPTO\"]==\"80-MATERIAL DE EMPAQUE\"].index)\n",
    "\n",
    "# 17529 códigos de barra\n",
    "\n",
    "display(TABASTOS2019.head(2),TABASTOS2019.shape)"
   ]
  },
  {
   "cell_type": "markdown",
   "metadata": {},
   "source": [
    "<h3> Lista de clasificaciones Contaminant"
   ]
  },
  {
   "cell_type": "code",
   "execution_count": 4,
   "metadata": {},
   "outputs": [],
   "source": [
    "lista_cont = [\n",
    "\"3008-CLOROS\",\n",
    "\"3012-PRODUCTOS PARA CALZADO\",\"3013-(I) PRODUCTOS PARA CALZADO\",\n",
    "\"3016-DESINFECTANTES\",\n",
    "\"3018-DESODORANTES AMBIENTALES\",\"3019-(I) DESODORANTES AMBIENTALES\",\n",
    "\"3020-DETERGENTE\",\"3021-(I) DETERGENTE\",\n",
    "\"3028-LIMPIADORES VARIOS\",\"3029-(I) LIMPIADORES VARIOS\",\n",
    "\"3030-INSECTICIDAS\",\"3031-(I) INSECTICIDAS\",\n",
    "\"3032-JABON PARA LAVAR ROPA\",\n",
    "\"3034-LAVAVAJILLAS\",\"3035-(I) LAVAVAJILLAS\",                      \n",
    "\"3040-CUIDADO DE LA ROPA\",\"3041-(I) CUIDADO DE LA ROPA\",\n",
    "\"4118-DESODORANTES\",\"4119-(I) DESODORANTES\",  \n",
    "\"4126-JABON DE TOCADOR\",\"4127-(I) JABON DE TOCADOR\",\n",
    "\"4130-LACAS Y FIJADORES\",\n",
    "\"4138-SHAMPOOS\",\"4139-(I) SHAMPOOS\",\n",
    "\"4140-TALCOS Y SIMILARES\",\"4140-(I) TALCOS Y SIMILARES\",\n",
    "\"4162-TRATAMIENTOS CAPILARES\",\"4163-(I) TRATAMIENTOS CAPILARES\",  \n",
    "\"6516-ACCESORIOS LIMPIEZA MASCOTAS\",\"6517-(I) ACCESORIOS LIMPIEZA MASCOTAS\",             \n",
    "\"2064-ABONOS\",\n",
    "\"2070-CARBON\",\n",
    "\"3006-DESTAPA CANOS\",\n",
    "\"3010-CERA DE PISOS\",\"3011-(I) CERA DE PISOS\",\n",
    "\"2072-DESINFECTANTE DE HORTALIZAS\",\n",
    "\"4258-SPA\",\n",
    "\"4122-HIGIENE BUCAL\",\n",
    "\"4104-ACONDICIONADOR / RINSE\", \"4105-(I) ACONDICIONADOR / RINSE\",\n",
    "\"4144-HIGIENE INFANTIL\", \"4145-(I) HIGIENE INFANTIL\",\n",
    "\"6824-LLANTAS\",\n",
    "\"6858-LLANTAS PARA MOTOS\",    \n",
    "\"4228-LINEA BEBE\",\n",
    "\"4102-EXHIBIDORES DE CAJA HIGIENE\",\n",
    "\"4204-BRONCEADORES\"]"
   ]
  },
  {
   "cell_type": "markdown",
   "metadata": {},
   "source": [
    "<h1> ABCD GLOBAL"
   ]
  },
  {
   "cell_type": "code",
   "execution_count": 5,
   "metadata": {},
   "outputs": [],
   "source": [
    "#ELIMINA CONTAMINANTES\n",
    "GLOBAL=TABASTOS2019[~TABASTOS2019.NOM_CLASIFICACION.isin(lista_cont)]\n",
    "\n",
    "# Frecuencia de despeachos de cada CB\n",
    "cbT=pd.DataFrame({'cant':GLOBAL.groupby(\"COD_BARRAS\").size()}).reset_index()\n",
    "\n",
    "# Ordenando\n",
    "cbT=cbT.sort_values(by=\"cant\", ascending=False).reset_index()\n",
    "del cbT[\"index\"]\n",
    "\n",
    "# Total de frecuencias de despachos\n",
    "Freq_desT=cbT.cant.sum(axis=0)\n",
    "\n",
    "# Participacion\n",
    "cbT['PARTICIPACION']=cbT[\"cant\"].apply(lambda par: (par/Freq_desT)*100)\n",
    "\n",
    "# SUMA ACUMULADA\n",
    "cbT['SUM_ACUM'] = cbT['PARTICIPACION'].cumsum() \n",
    "\n",
    "#CLASIFICACION ABCD\n",
    "cbT[\"CLASIFICACION\"]=cbT[\"SUM_ACUM\"].apply(\n",
    "    lambda x: \"A\" if x<=80.01 else (\"B\" if x>80.01 and x<=90.001 else (\"C\" if x>90.001 and x<=98.0 else \"D\")))\n"
   ]
  },
  {
   "cell_type": "code",
   "execution_count": 5,
   "metadata": {},
   "outputs": [
    {
     "data": {
      "text/html": [
       "<div>\n",
       "<style scoped>\n",
       "    .dataframe tbody tr th:only-of-type {\n",
       "        vertical-align: middle;\n",
       "    }\n",
       "\n",
       "    .dataframe tbody tr th {\n",
       "        vertical-align: top;\n",
       "    }\n",
       "\n",
       "    .dataframe thead th {\n",
       "        text-align: right;\n",
       "    }\n",
       "</style>\n",
       "<table border=\"1\" class=\"dataframe\">\n",
       "  <thead>\n",
       "    <tr style=\"text-align: right;\">\n",
       "      <th></th>\n",
       "      <th>COD_BARRAS</th>\n",
       "      <th>cant</th>\n",
       "      <th>PARTICIPACION</th>\n",
       "      <th>SUM_ACUM</th>\n",
       "      <th>CLASIFICACION</th>\n",
       "    </tr>\n",
       "  </thead>\n",
       "  <tbody>\n",
       "    <tr>\n",
       "      <th>13592</th>\n",
       "      <td>7798119220015</td>\n",
       "      <td>1</td>\n",
       "      <td>0.000019</td>\n",
       "      <td>99.999961</td>\n",
       "      <td>D</td>\n",
       "    </tr>\n",
       "    <tr>\n",
       "      <th>13593</th>\n",
       "      <td>7798131200828</td>\n",
       "      <td>1</td>\n",
       "      <td>0.000019</td>\n",
       "      <td>99.999981</td>\n",
       "      <td>D</td>\n",
       "    </tr>\n",
       "    <tr>\n",
       "      <th>13594</th>\n",
       "      <td>715126600033</td>\n",
       "      <td>1</td>\n",
       "      <td>0.000019</td>\n",
       "      <td>100.000000</td>\n",
       "      <td>D</td>\n",
       "    </tr>\n",
       "  </tbody>\n",
       "</table>\n",
       "</div>"
      ],
      "text/plain": [
       "          COD_BARRAS  cant  PARTICIPACION    SUM_ACUM CLASIFICACION\n",
       "13592  7798119220015     1       0.000019   99.999961             D\n",
       "13593  7798131200828     1       0.000019   99.999981             D\n",
       "13594   715126600033     1       0.000019  100.000000             D"
      ]
     },
     "metadata": {},
     "output_type": "display_data"
    },
    {
     "data": {
      "text/plain": [
       "(13595, 5)"
      ]
     },
     "metadata": {},
     "output_type": "display_data"
    }
   ],
   "source": [
    "display(cbT.tail(3),cbT.shape)"
   ]
  },
  {
   "cell_type": "code",
   "execution_count": 6,
   "metadata": {},
   "outputs": [
    {
     "data": {
      "text/html": [
       "<div>\n",
       "<style scoped>\n",
       "    .dataframe tbody tr th:only-of-type {\n",
       "        vertical-align: middle;\n",
       "    }\n",
       "\n",
       "    .dataframe tbody tr th {\n",
       "        vertical-align: top;\n",
       "    }\n",
       "\n",
       "    .dataframe thead th {\n",
       "        text-align: right;\n",
       "    }\n",
       "</style>\n",
       "<table border=\"1\" class=\"dataframe\">\n",
       "  <thead>\n",
       "    <tr style=\"text-align: right;\">\n",
       "      <th></th>\n",
       "      <th>CLASIFICACION</th>\n",
       "      <th>Total</th>\n",
       "    </tr>\n",
       "  </thead>\n",
       "  <tbody>\n",
       "    <tr>\n",
       "      <th>0</th>\n",
       "      <td>A</td>\n",
       "      <td>3696</td>\n",
       "    </tr>\n",
       "    <tr>\n",
       "      <th>1</th>\n",
       "      <td>B</td>\n",
       "      <td>2074</td>\n",
       "    </tr>\n",
       "    <tr>\n",
       "      <th>2</th>\n",
       "      <td>C</td>\n",
       "      <td>3776</td>\n",
       "    </tr>\n",
       "    <tr>\n",
       "      <th>3</th>\n",
       "      <td>D</td>\n",
       "      <td>4049</td>\n",
       "    </tr>\n",
       "  </tbody>\n",
       "</table>\n",
       "</div>"
      ],
      "text/plain": [
       "  CLASIFICACION  Total\n",
       "0             A   3696\n",
       "1             B   2074\n",
       "2             C   3776\n",
       "3             D   4049"
      ]
     },
     "execution_count": 6,
     "metadata": {},
     "output_type": "execute_result"
    }
   ],
   "source": [
    "ABCD_global=pd.DataFrame({'Total':cbT.groupby(\"CLASIFICACION\").size()}).reset_index()\n",
    "ABCD_global"
   ]
  },
  {
   "cell_type": "markdown",
   "metadata": {},
   "source": [
    "<H1> ABCD CONTAMINANTES"
   ]
  },
  {
   "cell_type": "code",
   "execution_count": 7,
   "metadata": {},
   "outputs": [],
   "source": [
    "CONT=TABASTOS2019[TABASTOS2019.NOM_CLASIFICACION.isin(lista_cont)]\n",
    "\n",
    "# Frecuencia de despachos de cada CB\n",
    "cb_contaminant=pd.DataFrame({'cant':CONT.groupby(\"COD_BARRAS\").size()}).reset_index()\n",
    "\n",
    "# Ordenando\n",
    "cb_contaminant=cb_contaminant.sort_values(by=\"cant\", ascending=False).reset_index()\n",
    "del cb_contaminant[\"index\"]\n",
    "\n",
    "# Total de frecuencias de despachos\n",
    "Freq_des_cont=cb_contaminant.cant.sum(axis=0)\n",
    "\n",
    "# Participacion\n",
    "cb_contaminant['PARTICIPACION']=cb_contaminant[\"cant\"].apply(lambda par: (par/Freq_des_cont)*100)\n",
    "\n",
    "# Suma Acumulada\n",
    "cb_contaminant['SUM_ACUM'] = cb_contaminant['PARTICIPACION'].cumsum() \n",
    "\n",
    "# CLASIFICACION ABCD\n",
    "cb_contaminant[\"CLASIFICACION\"]=cb_contaminant[\"SUM_ACUM\"].apply(\n",
    "    lambda x: \"A\" if x<=80.01 else (\"B\" if x>80.01 and x<=90.001 else (\"C\" if x>90.001 and x<=98 else \"D\")))"
   ]
  },
  {
   "cell_type": "code",
   "execution_count": 8,
   "metadata": {},
   "outputs": [
    {
     "data": {
      "text/html": [
       "<div>\n",
       "<style scoped>\n",
       "    .dataframe tbody tr th:only-of-type {\n",
       "        vertical-align: middle;\n",
       "    }\n",
       "\n",
       "    .dataframe tbody tr th {\n",
       "        vertical-align: top;\n",
       "    }\n",
       "\n",
       "    .dataframe thead th {\n",
       "        text-align: right;\n",
       "    }\n",
       "</style>\n",
       "<table border=\"1\" class=\"dataframe\">\n",
       "  <thead>\n",
       "    <tr style=\"text-align: right;\">\n",
       "      <th></th>\n",
       "      <th>COD_BARRAS</th>\n",
       "      <th>cant</th>\n",
       "      <th>PARTICIPACION</th>\n",
       "      <th>SUM_ACUM</th>\n",
       "      <th>CLASIFICACION</th>\n",
       "    </tr>\n",
       "  </thead>\n",
       "  <tbody>\n",
       "    <tr>\n",
       "      <th>3931</th>\n",
       "      <td>7509552909678</td>\n",
       "      <td>1</td>\n",
       "      <td>0.000087</td>\n",
       "      <td>99.999825</td>\n",
       "      <td>D</td>\n",
       "    </tr>\n",
       "    <tr>\n",
       "      <th>3932</th>\n",
       "      <td>900130890</td>\n",
       "      <td>1</td>\n",
       "      <td>0.000087</td>\n",
       "      <td>99.999913</td>\n",
       "      <td>D</td>\n",
       "    </tr>\n",
       "    <tr>\n",
       "      <th>3933</th>\n",
       "      <td>7804920010551</td>\n",
       "      <td>1</td>\n",
       "      <td>0.000087</td>\n",
       "      <td>100.000000</td>\n",
       "      <td>D</td>\n",
       "    </tr>\n",
       "  </tbody>\n",
       "</table>\n",
       "</div>"
      ],
      "text/plain": [
       "         COD_BARRAS  cant  PARTICIPACION    SUM_ACUM CLASIFICACION\n",
       "3931  7509552909678     1       0.000087   99.999825             D\n",
       "3932      900130890     1       0.000087   99.999913             D\n",
       "3933  7804920010551     1       0.000087  100.000000             D"
      ]
     },
     "metadata": {},
     "output_type": "display_data"
    },
    {
     "data": {
      "text/plain": [
       "(3934, 5)"
      ]
     },
     "metadata": {},
     "output_type": "display_data"
    }
   ],
   "source": [
    "display(cb_contaminant.tail(3),cb_contaminant.shape)"
   ]
  },
  {
   "cell_type": "code",
   "execution_count": 1,
   "metadata": {},
   "outputs": [
    {
     "ename": "NameError",
     "evalue": "name 'pd' is not defined",
     "output_type": "error",
     "traceback": [
      "\u001b[0;31m---------------------------------------------------------------------------\u001b[0m",
      "\u001b[0;31mNameError\u001b[0m                                 Traceback (most recent call last)",
      "\u001b[0;32m<ipython-input-1-00466850db8c>\u001b[0m in \u001b[0;36m<module>\u001b[0;34m()\u001b[0m\n\u001b[0;32m----> 1\u001b[0;31m \u001b[0mABCD_cont\u001b[0m\u001b[0;34m=\u001b[0m\u001b[0mpd\u001b[0m\u001b[0;34m.\u001b[0m\u001b[0mDataFrame\u001b[0m\u001b[0;34m(\u001b[0m\u001b[0;34m{\u001b[0m\u001b[0;34m'Total'\u001b[0m\u001b[0;34m:\u001b[0m\u001b[0mcb_contaminant\u001b[0m\u001b[0;34m.\u001b[0m\u001b[0mgroupby\u001b[0m\u001b[0;34m(\u001b[0m\u001b[0;34m\"CLASIFICACION\"\u001b[0m\u001b[0;34m)\u001b[0m\u001b[0;34m.\u001b[0m\u001b[0msize\u001b[0m\u001b[0;34m(\u001b[0m\u001b[0;34m)\u001b[0m\u001b[0;34m}\u001b[0m\u001b[0;34m)\u001b[0m\u001b[0;34m.\u001b[0m\u001b[0mreset_index\u001b[0m\u001b[0;34m(\u001b[0m\u001b[0;34m)\u001b[0m\u001b[0;34m\u001b[0m\u001b[0m\n\u001b[0m\u001b[1;32m      2\u001b[0m \u001b[0mABCD_cont\u001b[0m\u001b[0;34m\u001b[0m\u001b[0m\n",
      "\u001b[0;31mNameError\u001b[0m: name 'pd' is not defined"
     ]
    }
   ],
   "source": [
    "ABCD_cont=pd.DataFrame({'Total':cb_contaminant.groupby(\"CLASIFICACION\").size()}).reset_index()\n",
    "ABCD_cont"
   ]
  },
  {
   "cell_type": "code",
   "execution_count": null,
   "metadata": {},
   "outputs": [],
   "source": [
    "df = (\n",
    "    pd.DataFrame.from_dict(company_sales)\n",
    "    .remove_columns(['Company1'])\n",
    "    .dropna(subset=['Company2', 'Company3'])\n",
    "    .rename_column('Company2', 'Amazon')\n",
    "    .rename_column('Company3', 'Facebook')\n",
    "    .add_column('Google', [450.0, 550.0, 800.0])\n",
    ")"
   ]
  },
  {
   "cell_type": "markdown",
   "metadata": {},
   "source": [
    "<H1> RESISTENCIAS"
   ]
  },
  {
   "cell_type": "code",
   "execution_count": 10,
   "metadata": {},
   "outputs": [
    {
     "data": {
      "text/html": [
       "<div>\n",
       "<style scoped>\n",
       "    .dataframe tbody tr th:only-of-type {\n",
       "        vertical-align: middle;\n",
       "    }\n",
       "\n",
       "    .dataframe tbody tr th {\n",
       "        vertical-align: top;\n",
       "    }\n",
       "\n",
       "    .dataframe thead th {\n",
       "        text-align: right;\n",
       "    }\n",
       "</style>\n",
       "<table border=\"1\" class=\"dataframe\">\n",
       "  <thead>\n",
       "    <tr style=\"text-align: right;\">\n",
       "      <th></th>\n",
       "      <th>COD_BARRAS</th>\n",
       "      <th>NOM_DIVISION</th>\n",
       "      <th>NOM_BODEGA</th>\n",
       "      <th>NOM_DEPTO</th>\n",
       "      <th>NOM_CLASIFICACION_AUX</th>\n",
       "    </tr>\n",
       "  </thead>\n",
       "  <tbody>\n",
       "    <tr>\n",
       "      <th>0</th>\n",
       "      <td>60715</td>\n",
       "      <td>1-ABARROTES</td>\n",
       "      <td>10-ABASTOS</td>\n",
       "      <td>12-COMESTIBLES II</td>\n",
       "      <td>1240-VEGETALES A GRANEL</td>\n",
       "    </tr>\n",
       "    <tr>\n",
       "      <th>1</th>\n",
       "      <td>60763</td>\n",
       "      <td>1-ABARROTES</td>\n",
       "      <td>10-ABASTOS</td>\n",
       "      <td>12-COMESTIBLES II</td>\n",
       "      <td>1240-VEGETALES A GRANEL</td>\n",
       "    </tr>\n",
       "  </tbody>\n",
       "</table>\n",
       "</div>"
      ],
      "text/plain": [
       "   COD_BARRAS NOM_DIVISION  NOM_BODEGA          NOM_DEPTO  \\\n",
       "0       60715  1-ABARROTES  10-ABASTOS  12-COMESTIBLES II   \n",
       "1       60763  1-ABARROTES  10-ABASTOS  12-COMESTIBLES II   \n",
       "\n",
       "     NOM_CLASIFICACION_AUX  \n",
       "0  1240-VEGETALES A GRANEL  \n",
       "1  1240-VEGETALES A GRANEL  "
      ]
     },
     "metadata": {},
     "output_type": "display_data"
    },
    {
     "data": {
      "text/plain": [
       "(17529, 5)"
      ]
     },
     "metadata": {},
     "output_type": "display_data"
    }
   ],
   "source": [
    "cb_resis=pd.DataFrame({'cant':TABASTOS2019.groupby([\"COD_BARRAS\",\"NOM_DIVISION\",\"NOM_BODEGA\",\"NOM_DEPTO\",\"NOM_CLASIFICACION_AUX\"]).size()}).reset_index()\n",
    "del cb_resis[\"cant\"]\n",
    "display(cb_resis.head(2),cb_resis.shape)"
   ]
  },
  {
   "cell_type": "code",
   "execution_count": 11,
   "metadata": {},
   "outputs": [
    {
     "data": {
      "text/html": [
       "<div>\n",
       "<style scoped>\n",
       "    .dataframe tbody tr th:only-of-type {\n",
       "        vertical-align: middle;\n",
       "    }\n",
       "\n",
       "    .dataframe tbody tr th {\n",
       "        vertical-align: top;\n",
       "    }\n",
       "\n",
       "    .dataframe thead th {\n",
       "        text-align: right;\n",
       "    }\n",
       "</style>\n",
       "<table border=\"1\" class=\"dataframe\">\n",
       "  <thead>\n",
       "    <tr style=\"text-align: right;\">\n",
       "      <th></th>\n",
       "      <th>NOM_CLASIFICACION_AUX</th>\n",
       "      <th>resis_clas</th>\n",
       "    </tr>\n",
       "  </thead>\n",
       "  <tbody>\n",
       "    <tr>\n",
       "      <th>0</th>\n",
       "      <td>6824-LLANTAS</td>\n",
       "      <td>4.0</td>\n",
       "    </tr>\n",
       "    <tr>\n",
       "      <th>1</th>\n",
       "      <td>1314-ESPUMANTES</td>\n",
       "      <td>4.0</td>\n",
       "    </tr>\n",
       "  </tbody>\n",
       "</table>\n",
       "</div>"
      ],
      "text/plain": [
       "  NOM_CLASIFICACION_AUX  resis_clas\n",
       "0          6824-LLANTAS         4.0\n",
       "1       1314-ESPUMANTES         4.0"
      ]
     },
     "metadata": {},
     "output_type": "display_data"
    },
    {
     "data": {
      "text/plain": [
       "(91, 2)"
      ]
     },
     "metadata": {},
     "output_type": "display_data"
    }
   ],
   "source": [
    "Res_Clas=pd.read_csv(\"../Resistencias  SIM_6JUN /RES_CLAS.csv\")\n",
    "display(Res_Clas.head(2),Res_Clas.shape)\n"
   ]
  },
  {
   "cell_type": "code",
   "execution_count": 12,
   "metadata": {},
   "outputs": [
    {
     "data": {
      "text/html": [
       "<div>\n",
       "<style scoped>\n",
       "    .dataframe tbody tr th:only-of-type {\n",
       "        vertical-align: middle;\n",
       "    }\n",
       "\n",
       "    .dataframe tbody tr th {\n",
       "        vertical-align: top;\n",
       "    }\n",
       "\n",
       "    .dataframe thead th {\n",
       "        text-align: right;\n",
       "    }\n",
       "</style>\n",
       "<table border=\"1\" class=\"dataframe\">\n",
       "  <thead>\n",
       "    <tr style=\"text-align: right;\">\n",
       "      <th></th>\n",
       "      <th>COD_BARRAS</th>\n",
       "      <th>NOM_DIVISION</th>\n",
       "      <th>NOM_BODEGA</th>\n",
       "      <th>NOM_DEPTO</th>\n",
       "      <th>NOM_CLASIFICACION_AUX</th>\n",
       "      <th>resis_clas</th>\n",
       "    </tr>\n",
       "  </thead>\n",
       "  <tbody>\n",
       "    <tr>\n",
       "      <th>0</th>\n",
       "      <td>60715</td>\n",
       "      <td>1-ABARROTES</td>\n",
       "      <td>10-ABASTOS</td>\n",
       "      <td>12-COMESTIBLES II</td>\n",
       "      <td>1240-VEGETALES A GRANEL</td>\n",
       "      <td>NaN</td>\n",
       "    </tr>\n",
       "    <tr>\n",
       "      <th>1</th>\n",
       "      <td>60763</td>\n",
       "      <td>1-ABARROTES</td>\n",
       "      <td>10-ABASTOS</td>\n",
       "      <td>12-COMESTIBLES II</td>\n",
       "      <td>1240-VEGETALES A GRANEL</td>\n",
       "      <td>NaN</td>\n",
       "    </tr>\n",
       "  </tbody>\n",
       "</table>\n",
       "</div>"
      ],
      "text/plain": [
       "   COD_BARRAS NOM_DIVISION  NOM_BODEGA          NOM_DEPTO  \\\n",
       "0       60715  1-ABARROTES  10-ABASTOS  12-COMESTIBLES II   \n",
       "1       60763  1-ABARROTES  10-ABASTOS  12-COMESTIBLES II   \n",
       "\n",
       "     NOM_CLASIFICACION_AUX  resis_clas  \n",
       "0  1240-VEGETALES A GRANEL         NaN  \n",
       "1  1240-VEGETALES A GRANEL         NaN  "
      ]
     },
     "metadata": {},
     "output_type": "display_data"
    },
    {
     "data": {
      "text/plain": [
       "(17529, 6)"
      ]
     },
     "metadata": {},
     "output_type": "display_data"
    }
   ],
   "source": [
    "cb_resis_clas=pd.merge(cb_resis,Res_Clas,on=\"NOM_CLASIFICACION_AUX\", how=\"left\")\n",
    "display(cb_resis_clas.head(2),cb_resis_clas.shape)"
   ]
  },
  {
   "cell_type": "code",
   "execution_count": 13,
   "metadata": {},
   "outputs": [
    {
     "name": "stderr",
     "output_type": "stream",
     "text": [
      "/home/jupyter/.local/lib/python3.5/site-packages/pandas/core/frame.py:3781: SettingWithCopyWarning: \n",
      "A value is trying to be set on a copy of a slice from a DataFrame\n",
      "\n",
      "See the caveats in the documentation: http://pandas.pydata.org/pandas-docs/stable/indexing.html#indexing-view-versus-copy\n",
      "  return super(DataFrame, self).rename(**kwargs)\n"
     ]
    },
    {
     "data": {
      "text/html": [
       "<div>\n",
       "<style scoped>\n",
       "    .dataframe tbody tr th:only-of-type {\n",
       "        vertical-align: middle;\n",
       "    }\n",
       "\n",
       "    .dataframe tbody tr th {\n",
       "        vertical-align: top;\n",
       "    }\n",
       "\n",
       "    .dataframe thead th {\n",
       "        text-align: right;\n",
       "    }\n",
       "</style>\n",
       "<table border=\"1\" class=\"dataframe\">\n",
       "  <thead>\n",
       "    <tr style=\"text-align: right;\">\n",
       "      <th></th>\n",
       "      <th>COD_BARRAS</th>\n",
       "      <th>NOM_DIVISION</th>\n",
       "      <th>NOM_BODEGA</th>\n",
       "      <th>NOM_DEPTO</th>\n",
       "      <th>NOM_CLASIFICACION_AUX</th>\n",
       "      <th>resis_clas</th>\n",
       "    </tr>\n",
       "  </thead>\n",
       "  <tbody>\n",
       "    <tr>\n",
       "      <th>35</th>\n",
       "      <td>69884</td>\n",
       "      <td>1-ABARROTES</td>\n",
       "      <td>10-ABASTOS</td>\n",
       "      <td>10-COMESTIBLES I</td>\n",
       "      <td>1010-ARROZ</td>\n",
       "      <td>4.0</td>\n",
       "    </tr>\n",
       "    <tr>\n",
       "      <th>40</th>\n",
       "      <td>40144016</td>\n",
       "      <td>1-ABARROTES</td>\n",
       "      <td>10-ABASTOS</td>\n",
       "      <td>10-COMESTIBLES I</td>\n",
       "      <td>1076-PRODUCTOS EXHIBIDORES CAJA</td>\n",
       "      <td>2.0</td>\n",
       "    </tr>\n",
       "    <tr>\n",
       "      <th>41</th>\n",
       "      <td>40198095</td>\n",
       "      <td>1-ABARROTES</td>\n",
       "      <td>10-ABASTOS</td>\n",
       "      <td>10-COMESTIBLES I</td>\n",
       "      <td>1006-SALSAS LISTAS/DIPS</td>\n",
       "      <td>3.0</td>\n",
       "    </tr>\n",
       "  </tbody>\n",
       "</table>\n",
       "</div>"
      ],
      "text/plain": [
       "    COD_BARRAS NOM_DIVISION  NOM_BODEGA         NOM_DEPTO  \\\n",
       "35       69884  1-ABARROTES  10-ABASTOS  10-COMESTIBLES I   \n",
       "40    40144016  1-ABARROTES  10-ABASTOS  10-COMESTIBLES I   \n",
       "41    40198095  1-ABARROTES  10-ABASTOS  10-COMESTIBLES I   \n",
       "\n",
       "              NOM_CLASIFICACION_AUX  resis_clas  \n",
       "35                       1010-ARROZ         4.0  \n",
       "40  1076-PRODUCTOS EXHIBIDORES CAJA         2.0  \n",
       "41          1006-SALSAS LISTAS/DIPS         3.0  "
      ]
     },
     "metadata": {},
     "output_type": "display_data"
    },
    {
     "data": {
      "text/plain": [
       "(15207, 6)"
      ]
     },
     "metadata": {},
     "output_type": "display_data"
    }
   ],
   "source": [
    "# Nulos\n",
    "nulos_clas=cb_resis_clas[pd.isnull(cb_resis_clas.resis_clas)]\n",
    "cb_resis_clas.drop(nulos_clas.index, inplace=True)\n",
    "\n",
    "# TABLA NECESARIA\n",
    "CB1=cb_resis_clas[[\"COD_BARRAS\",\"resis_clas\"]]\n",
    "\n",
    "CB1.rename({\"resis_clas\":\"RESISTENCIA\"}, axis=1,inplace=True)\n",
    "\n",
    "display(cb_resis_clas.head(3),cb_resis_clas.shape)"
   ]
  },
  {
   "cell_type": "code",
   "execution_count": 14,
   "metadata": {},
   "outputs": [
    {
     "name": "stderr",
     "output_type": "stream",
     "text": [
      "/home/jupyter/.local/lib/python3.5/site-packages/pandas/core/frame.py:3781: SettingWithCopyWarning: \n",
      "A value is trying to be set on a copy of a slice from a DataFrame\n",
      "\n",
      "See the caveats in the documentation: http://pandas.pydata.org/pandas-docs/stable/indexing.html#indexing-view-versus-copy\n",
      "  return super(DataFrame, self).rename(**kwargs)\n"
     ]
    },
    {
     "data": {
      "text/html": [
       "<div>\n",
       "<style scoped>\n",
       "    .dataframe tbody tr th:only-of-type {\n",
       "        vertical-align: middle;\n",
       "    }\n",
       "\n",
       "    .dataframe tbody tr th {\n",
       "        vertical-align: top;\n",
       "    }\n",
       "\n",
       "    .dataframe thead th {\n",
       "        text-align: right;\n",
       "    }\n",
       "</style>\n",
       "<table border=\"1\" class=\"dataframe\">\n",
       "  <thead>\n",
       "    <tr style=\"text-align: right;\">\n",
       "      <th></th>\n",
       "      <th>COD_BARRAS</th>\n",
       "      <th>NOM_DIVISION</th>\n",
       "      <th>NOM_BODEGA</th>\n",
       "      <th>NOM_DEPTO</th>\n",
       "      <th>NOM_CLASIFICACION_AUX</th>\n",
       "      <th>resis_clas</th>\n",
       "      <th>resis_dpto</th>\n",
       "    </tr>\n",
       "  </thead>\n",
       "  <tbody>\n",
       "    <tr>\n",
       "      <th>36</th>\n",
       "      <td>40122342</td>\n",
       "      <td>1-ABARROTES</td>\n",
       "      <td>10-ABASTOS</td>\n",
       "      <td>10-COMESTIBLES I</td>\n",
       "      <td>1066-MOSTAZAS</td>\n",
       "      <td>NaN</td>\n",
       "      <td>3.0</td>\n",
       "    </tr>\n",
       "    <tr>\n",
       "      <th>37</th>\n",
       "      <td>40122380</td>\n",
       "      <td>1-ABARROTES</td>\n",
       "      <td>10-ABASTOS</td>\n",
       "      <td>10-COMESTIBLES I</td>\n",
       "      <td>1066-MOSTAZAS</td>\n",
       "      <td>NaN</td>\n",
       "      <td>3.0</td>\n",
       "    </tr>\n",
       "    <tr>\n",
       "      <th>38</th>\n",
       "      <td>40122526</td>\n",
       "      <td>1-ABARROTES</td>\n",
       "      <td>10-ABASTOS</td>\n",
       "      <td>10-COMESTIBLES I</td>\n",
       "      <td>1066-MOSTAZAS</td>\n",
       "      <td>NaN</td>\n",
       "      <td>3.0</td>\n",
       "    </tr>\n",
       "  </tbody>\n",
       "</table>\n",
       "</div>"
      ],
      "text/plain": [
       "    COD_BARRAS NOM_DIVISION  NOM_BODEGA         NOM_DEPTO  \\\n",
       "36    40122342  1-ABARROTES  10-ABASTOS  10-COMESTIBLES I   \n",
       "37    40122380  1-ABARROTES  10-ABASTOS  10-COMESTIBLES I   \n",
       "38    40122526  1-ABARROTES  10-ABASTOS  10-COMESTIBLES I   \n",
       "\n",
       "   NOM_CLASIFICACION_AUX  resis_clas  resis_dpto  \n",
       "36         1066-MOSTAZAS         NaN         3.0  \n",
       "37         1066-MOSTAZAS         NaN         3.0  \n",
       "38         1066-MOSTAZAS         NaN         3.0  "
      ]
     },
     "metadata": {},
     "output_type": "display_data"
    },
    {
     "data": {
      "text/plain": [
       "(2042, 7)"
      ]
     },
     "metadata": {},
     "output_type": "display_data"
    }
   ],
   "source": [
    "RES_DPTO2=pd.read_csv(\"../Resistencias  SIM_6JUN /RES_DPTO2.csv\")\n",
    "\n",
    "nulos_clas_dpto=pd.merge(nulos_clas,RES_DPTO2, on=\"NOM_DEPTO\", how=\"left\")\n",
    "\n",
    "# Nulos\n",
    "nulos_dpto=nulos_clas_dpto[pd.isnull(nulos_clas_dpto.resis_dpto)]\n",
    "nulos_clas_dpto.drop(nulos_dpto.index, inplace=True)\n",
    "\n",
    "# TABLA NECESARIA\n",
    "CB2=nulos_clas_dpto[[\"COD_BARRAS\",\"resis_dpto\"]]\n",
    "CB2.rename({\"resis_dpto\":\"RESISTENCIA\"}, axis=1,inplace=True)\n",
    "\n",
    "display(nulos_clas_dpto.head(3),nulos_clas_dpto.shape)"
   ]
  },
  {
   "cell_type": "code",
   "execution_count": 15,
   "metadata": {},
   "outputs": [
    {
     "name": "stderr",
     "output_type": "stream",
     "text": [
      "/home/jupyter/.local/lib/python3.5/site-packages/pandas/core/frame.py:3781: SettingWithCopyWarning: \n",
      "A value is trying to be set on a copy of a slice from a DataFrame\n",
      "\n",
      "See the caveats in the documentation: http://pandas.pydata.org/pandas-docs/stable/indexing.html#indexing-view-versus-copy\n",
      "  return super(DataFrame, self).rename(**kwargs)\n"
     ]
    },
    {
     "data": {
      "text/html": [
       "<div>\n",
       "<style scoped>\n",
       "    .dataframe tbody tr th:only-of-type {\n",
       "        vertical-align: middle;\n",
       "    }\n",
       "\n",
       "    .dataframe tbody tr th {\n",
       "        vertical-align: top;\n",
       "    }\n",
       "\n",
       "    .dataframe thead th {\n",
       "        text-align: right;\n",
       "    }\n",
       "</style>\n",
       "<table border=\"1\" class=\"dataframe\">\n",
       "  <thead>\n",
       "    <tr style=\"text-align: right;\">\n",
       "      <th></th>\n",
       "      <th>COD_BARRAS</th>\n",
       "      <th>NOM_DIVISION</th>\n",
       "      <th>NOM_BODEGA</th>\n",
       "      <th>NOM_DEPTO</th>\n",
       "      <th>NOM_CLASIFICACION_AUX</th>\n",
       "      <th>resis_clas</th>\n",
       "      <th>resis_dpto</th>\n",
       "      <th>resis_division</th>\n",
       "    </tr>\n",
       "  </thead>\n",
       "  <tbody>\n",
       "    <tr>\n",
       "      <th>0</th>\n",
       "      <td>60715</td>\n",
       "      <td>1-ABARROTES</td>\n",
       "      <td>10-ABASTOS</td>\n",
       "      <td>12-COMESTIBLES II</td>\n",
       "      <td>1240-VEGETALES A GRANEL</td>\n",
       "      <td>NaN</td>\n",
       "      <td>NaN</td>\n",
       "      <td>4.0</td>\n",
       "    </tr>\n",
       "    <tr>\n",
       "      <th>1</th>\n",
       "      <td>60763</td>\n",
       "      <td>1-ABARROTES</td>\n",
       "      <td>10-ABASTOS</td>\n",
       "      <td>12-COMESTIBLES II</td>\n",
       "      <td>1240-VEGETALES A GRANEL</td>\n",
       "      <td>NaN</td>\n",
       "      <td>NaN</td>\n",
       "      <td>4.0</td>\n",
       "    </tr>\n",
       "  </tbody>\n",
       "</table>\n",
       "</div>"
      ],
      "text/plain": [
       "   COD_BARRAS NOM_DIVISION  NOM_BODEGA          NOM_DEPTO  \\\n",
       "0       60715  1-ABARROTES  10-ABASTOS  12-COMESTIBLES II   \n",
       "1       60763  1-ABARROTES  10-ABASTOS  12-COMESTIBLES II   \n",
       "\n",
       "     NOM_CLASIFICACION_AUX  resis_clas  resis_dpto  resis_division  \n",
       "0  1240-VEGETALES A GRANEL         NaN         NaN             4.0  \n",
       "1  1240-VEGETALES A GRANEL         NaN         NaN             4.0  "
      ]
     },
     "metadata": {},
     "output_type": "display_data"
    },
    {
     "data": {
      "text/plain": [
       "(204, 8)"
      ]
     },
     "metadata": {},
     "output_type": "display_data"
    }
   ],
   "source": [
    "RES_DIVISION2=pd.read_csv(\"../Resistencias  SIM_6JUN /RES_DIVISION2.csv\")\n",
    "\n",
    "res_div=pd.merge(nulos_dpto,RES_DIVISION2,on=\"NOM_DIVISION\",how=\"left\")\n",
    "\n",
    "# Nulos\n",
    "nulos_div=res_div[pd.isnull(res_div.resis_division)]\n",
    "res_div.drop(nulos_div.index, inplace=True)\n",
    "\n",
    "# TABLA NECESARIA\n",
    "CB3=res_div[[\"COD_BARRAS\",\"resis_division\"]]\n",
    "CB3.rename({\"resis_division\":\"RESISTENCIA\"}, axis=1,inplace=True)\n",
    "\n",
    "display(res_div.head(2),res_div.shape)"
   ]
  },
  {
   "cell_type": "code",
   "execution_count": 16,
   "metadata": {},
   "outputs": [
    {
     "name": "stderr",
     "output_type": "stream",
     "text": [
      "/usr/local/lib/python3.5/dist-packages/ipykernel_launcher.py:2: SettingWithCopyWarning: \n",
      "A value is trying to be set on a copy of a slice from a DataFrame.\n",
      "Try using .loc[row_indexer,col_indexer] = value instead\n",
      "\n",
      "See the caveats in the documentation: http://pandas.pydata.org/pandas-docs/stable/indexing.html#indexing-view-versus-copy\n",
      "  \n",
      "/home/jupyter/.local/lib/python3.5/site-packages/pandas/core/frame.py:3781: SettingWithCopyWarning: \n",
      "A value is trying to be set on a copy of a slice from a DataFrame\n",
      "\n",
      "See the caveats in the documentation: http://pandas.pydata.org/pandas-docs/stable/indexing.html#indexing-view-versus-copy\n",
      "  return super(DataFrame, self).rename(**kwargs)\n"
     ]
    },
    {
     "data": {
      "text/html": [
       "<div>\n",
       "<style scoped>\n",
       "    .dataframe tbody tr th:only-of-type {\n",
       "        vertical-align: middle;\n",
       "    }\n",
       "\n",
       "    .dataframe tbody tr th {\n",
       "        vertical-align: top;\n",
       "    }\n",
       "\n",
       "    .dataframe thead th {\n",
       "        text-align: right;\n",
       "    }\n",
       "</style>\n",
       "<table border=\"1\" class=\"dataframe\">\n",
       "  <thead>\n",
       "    <tr style=\"text-align: right;\">\n",
       "      <th></th>\n",
       "      <th>COD_BARRAS</th>\n",
       "      <th>NOM_DIVISION</th>\n",
       "      <th>NOM_BODEGA</th>\n",
       "      <th>NOM_DEPTO</th>\n",
       "      <th>NOM_CLASIFICACION_AUX</th>\n",
       "      <th>resis_clas</th>\n",
       "      <th>resis_dpto</th>\n",
       "      <th>resis_division</th>\n",
       "      <th>resis_division2</th>\n",
       "    </tr>\n",
       "  </thead>\n",
       "  <tbody>\n",
       "    <tr>\n",
       "      <th>47</th>\n",
       "      <td>840101574938</td>\n",
       "      <td>7-TEXTILES</td>\n",
       "      <td>10-ABASTOS</td>\n",
       "      <td>70-LENCERIA Y MERCERIA</td>\n",
       "      <td>7016-ALMOHADAS</td>\n",
       "      <td>NaN</td>\n",
       "      <td>NaN</td>\n",
       "      <td>NaN</td>\n",
       "      <td>2</td>\n",
       "    </tr>\n",
       "    <tr>\n",
       "      <th>48</th>\n",
       "      <td>840101574945</td>\n",
       "      <td>7-TEXTILES</td>\n",
       "      <td>10-ABASTOS</td>\n",
       "      <td>70-LENCERIA Y MERCERIA</td>\n",
       "      <td>7016-ALMOHADAS</td>\n",
       "      <td>NaN</td>\n",
       "      <td>NaN</td>\n",
       "      <td>NaN</td>\n",
       "      <td>2</td>\n",
       "    </tr>\n",
       "  </tbody>\n",
       "</table>\n",
       "</div>"
      ],
      "text/plain": [
       "      COD_BARRAS NOM_DIVISION  NOM_BODEGA               NOM_DEPTO  \\\n",
       "47  840101574938   7-TEXTILES  10-ABASTOS  70-LENCERIA Y MERCERIA   \n",
       "48  840101574945   7-TEXTILES  10-ABASTOS  70-LENCERIA Y MERCERIA   \n",
       "\n",
       "   NOM_CLASIFICACION_AUX  resis_clas  resis_dpto  resis_division  \\\n",
       "47        7016-ALMOHADAS         NaN         NaN             NaN   \n",
       "48        7016-ALMOHADAS         NaN         NaN             NaN   \n",
       "\n",
       "    resis_division2  \n",
       "47                2  \n",
       "48                2  "
      ]
     },
     "execution_count": 16,
     "metadata": {},
     "output_type": "execute_result"
    }
   ],
   "source": [
    "# Poniendo resistencia a los nulos (almohadas)\n",
    "nulos_div[\"resis_division2\"]=nulos_div[\"resis_division\"].apply( lambda x: 2)\n",
    "\n",
    "# TABLA NECESARIA\n",
    "CB4=nulos_div[[\"COD_BARRAS\",\"resis_division2\"]]\n",
    "CB4.rename({\"resis_division2\":\"RESISTENCIA\"}, axis=1,inplace=True)\n",
    "\n",
    "nulos_div.head(2)"
   ]
  },
  {
   "cell_type": "code",
   "execution_count": 17,
   "metadata": {},
   "outputs": [
    {
     "data": {
      "text/html": [
       "<div>\n",
       "<style scoped>\n",
       "    .dataframe tbody tr th:only-of-type {\n",
       "        vertical-align: middle;\n",
       "    }\n",
       "\n",
       "    .dataframe tbody tr th {\n",
       "        vertical-align: top;\n",
       "    }\n",
       "\n",
       "    .dataframe thead th {\n",
       "        text-align: right;\n",
       "    }\n",
       "</style>\n",
       "<table border=\"1\" class=\"dataframe\">\n",
       "  <thead>\n",
       "    <tr style=\"text-align: right;\">\n",
       "      <th></th>\n",
       "      <th>COD_BARRAS</th>\n",
       "      <th>RESISTENCIA</th>\n",
       "    </tr>\n",
       "  </thead>\n",
       "  <tbody>\n",
       "    <tr>\n",
       "      <th>0</th>\n",
       "      <td>69884</td>\n",
       "      <td>4.0</td>\n",
       "    </tr>\n",
       "    <tr>\n",
       "      <th>1</th>\n",
       "      <td>40144016</td>\n",
       "      <td>2.0</td>\n",
       "    </tr>\n",
       "    <tr>\n",
       "      <th>2</th>\n",
       "      <td>40198095</td>\n",
       "      <td>3.0</td>\n",
       "    </tr>\n",
       "    <tr>\n",
       "      <th>3</th>\n",
       "      <td>40198132</td>\n",
       "      <td>3.0</td>\n",
       "    </tr>\n",
       "    <tr>\n",
       "      <th>4</th>\n",
       "      <td>40198569</td>\n",
       "      <td>4.0</td>\n",
       "    </tr>\n",
       "  </tbody>\n",
       "</table>\n",
       "</div>"
      ],
      "text/plain": [
       "   COD_BARRAS  RESISTENCIA\n",
       "0       69884          4.0\n",
       "1    40144016          2.0\n",
       "2    40198095          3.0\n",
       "3    40198132          3.0\n",
       "4    40198569          4.0"
      ]
     },
     "metadata": {},
     "output_type": "display_data"
    },
    {
     "data": {
      "text/plain": [
       "(17529, 2)"
      ]
     },
     "metadata": {},
     "output_type": "display_data"
    }
   ],
   "source": [
    "DESP2019_resis=pd.concat([CB1,CB2,CB3,CB4]).reset_index()\n",
    "del DESP2019_resis[\"index\"]\n",
    "display(DESP2019_resis.head(),DESP2019_resis.shape)"
   ]
  },
  {
   "cell_type": "code",
   "execution_count": null,
   "metadata": {},
   "outputs": [],
   "source": []
  },
  {
   "cell_type": "markdown",
   "metadata": {},
   "source": [
    "<H1> REUBICACIÓN"
   ]
  },
  {
   "cell_type": "markdown",
   "metadata": {},
   "source": [
    "<H3> Ubicaciones (1 nivel)"
   ]
  },
  {
   "cell_type": "code",
   "execution_count": 100,
   "metadata": {},
   "outputs": [
    {
     "data": {
      "text/plain": [
       "(3951, 3)"
      ]
     },
     "metadata": {},
     "output_type": "display_data"
    },
    {
     "data": {
      "text/plain": [
       "(13620, 3)"
      ]
     },
     "metadata": {},
     "output_type": "display_data"
    }
   ],
   "source": [
    "ubicacion_1N=pd.read_csv('UBICACIONES_1NIVEL.csv',sep=\";\",usecols=[0,2,3])\n",
    "ubicacion_1N.drop(ubicacion_1N[ubicacion_1N.ZONA==\"SMN\"].index, inplace=True)\n",
    "\n",
    "# Ubicaciones necesarias en 2 nivel\n",
    "racks_2n=pd.read_excel('RACKS_2DO nivel.xlsx',sep=\";\",usecols=[0,2,3])\n",
    "\n",
    "# Unir ubicaicones 1 nivel y 2 nivel\n",
    "ubicaciones_1N=pd.concat([ubicacion_1N,racks_2n])\n",
    "\n",
    "\n",
    "# CONTAMINANTES (Nave 5)\n",
    "ubi_cont1N=ubicaciones_1N[ubicaciones_1N[\"NAVE\"]==5]\n",
    "\n",
    "# CONTAMINABLES (Nave 1,2,3 y 4)\n",
    "ubi_NOcont1N=ubicaciones_1N.loc[ubicaciones_1N['NAVE'].isin([1,2,3,4])]\n",
    "\n",
    "display(ubi_cont1N.shape,ubi_NOcont1N.shape)"
   ]
  },
  {
   "cell_type": "markdown",
   "metadata": {},
   "source": [
    "<H3> Ubicaciones (2 niveles)"
   ]
  },
  {
   "cell_type": "code",
   "execution_count": 45,
   "metadata": {},
   "outputs": [
    {
     "data": {
      "text/html": [
       "<div>\n",
       "<style scoped>\n",
       "    .dataframe tbody tr th:only-of-type {\n",
       "        vertical-align: middle;\n",
       "    }\n",
       "\n",
       "    .dataframe tbody tr th {\n",
       "        vertical-align: top;\n",
       "    }\n",
       "\n",
       "    .dataframe thead th {\n",
       "        text-align: right;\n",
       "    }\n",
       "</style>\n",
       "<table border=\"1\" class=\"dataframe\">\n",
       "  <thead>\n",
       "    <tr style=\"text-align: right;\">\n",
       "      <th></th>\n",
       "      <th>NAVE</th>\n",
       "      <th>UBICACION</th>\n",
       "      <th>ZONA</th>\n",
       "    </tr>\n",
       "  </thead>\n",
       "  <tbody>\n",
       "    <tr>\n",
       "      <th>0</th>\n",
       "      <td>1</td>\n",
       "      <td>1140480001</td>\n",
       "      <td>C</td>\n",
       "    </tr>\n",
       "    <tr>\n",
       "      <th>1</th>\n",
       "      <td>1</td>\n",
       "      <td>1140470001</td>\n",
       "      <td>C</td>\n",
       "    </tr>\n",
       "  </tbody>\n",
       "</table>\n",
       "</div>"
      ],
      "text/plain": [
       "   NAVE   UBICACION ZONA\n",
       "0     1  1140480001    C\n",
       "1     1  1140470001    C"
      ]
     },
     "metadata": {},
     "output_type": "display_data"
    },
    {
     "data": {
      "text/plain": [
       "(31128, 3)"
      ]
     },
     "metadata": {},
     "output_type": "display_data"
    }
   ],
   "source": [
    "ubicaciones=pd.read_csv('UBICACION-ZONA-2N.csv',sep=\";\",usecols=[0,2,3])\n",
    "ubicaciones.drop(ubicaciones[ubicaciones.ZONA==\"SMN\"].index, inplace=True)\n",
    "\n",
    "# CONTAMINANTES (Nave 5)\n",
    "ubi_cont=ubicaciones[ubicaciones[\"NAVE\"]==5]\n",
    "\n",
    "# CONTAMINABLES (Nave 1,2,3 y 4)\n",
    "ubi_NOcont=ubicaciones.loc[ubicaciones['NAVE'].isin([1,2,3,4])]\n",
    "\n",
    "display(ubicaciones.head(2),ubicaciones.shape)"
   ]
  },
  {
   "cell_type": "code",
   "execution_count": null,
   "metadata": {},
   "outputs": [],
   "source": [
    "# CONTAMINANTES (Nave 5)\n",
    "ubi_cont=ubicaciones[ubicaciones[\"NAVE\"]==5]\n",
    "\n",
    "# CONTAMINABLES (Nave 1,2,3 y 4)\n",
    "ubi_NOcont=ubicaciones.loc[ubicaciones['NAVE'].isin([1,2,3,4])]\n",
    "\n",
    "display(ubicaciones.head(2),ubicaciones.shape)"
   ]
  },
  {
   "cell_type": "markdown",
   "metadata": {},
   "source": [
    "<h2> CONTAMINANTES\n",
    "    \n",
    "<h4> Datos necesarios de contaminantes\n",
    "        "
   ]
  },
  {
   "cell_type": "code",
   "execution_count": 46,
   "metadata": {},
   "outputs": [
    {
     "data": {
      "text/html": [
       "<div>\n",
       "<style scoped>\n",
       "    .dataframe tbody tr th:only-of-type {\n",
       "        vertical-align: middle;\n",
       "    }\n",
       "\n",
       "    .dataframe tbody tr th {\n",
       "        vertical-align: top;\n",
       "    }\n",
       "\n",
       "    .dataframe thead th {\n",
       "        text-align: right;\n",
       "    }\n",
       "</style>\n",
       "<table border=\"1\" class=\"dataframe\">\n",
       "  <thead>\n",
       "    <tr style=\"text-align: right;\">\n",
       "      <th></th>\n",
       "      <th>COD_BARRAS</th>\n",
       "      <th>CLASIFICACION</th>\n",
       "      <th>RESISTENCIA</th>\n",
       "    </tr>\n",
       "  </thead>\n",
       "  <tbody>\n",
       "    <tr>\n",
       "      <th>0</th>\n",
       "      <td>7702010780363</td>\n",
       "      <td>A</td>\n",
       "      <td>3.0</td>\n",
       "    </tr>\n",
       "    <tr>\n",
       "      <th>1</th>\n",
       "      <td>7861001350197</td>\n",
       "      <td>A</td>\n",
       "      <td>3.0</td>\n",
       "    </tr>\n",
       "  </tbody>\n",
       "</table>\n",
       "</div>"
      ],
      "text/plain": [
       "      COD_BARRAS CLASIFICACION  RESISTENCIA\n",
       "0  7702010780363             A          3.0\n",
       "1  7861001350197             A          3.0"
      ]
     },
     "metadata": {},
     "output_type": "display_data"
    },
    {
     "data": {
      "text/plain": [
       "(3934, 3)"
      ]
     },
     "metadata": {},
     "output_type": "display_data"
    }
   ],
   "source": [
    "contaminante=pd.merge(cb_contaminant,DESP2019_resis,on=\"COD_BARRAS\")\n",
    "\n",
    "Contaminante=contaminante[[\"COD_BARRAS\",\"CLASIFICACION\",\"RESISTENCIA\"]]\n",
    "\n",
    "display(Contaminante.head(2),Contaminante.shape)"
   ]
  },
  {
   "cell_type": "markdown",
   "metadata": {},
   "source": [
    "<h4> Organizando resistencias y ubicaciones para reubicar"
   ]
  },
  {
   "cell_type": "code",
   "execution_count": 74,
   "metadata": {},
   "outputs": [],
   "source": [
    "# CODIGOS DE BARRA\n",
    "cont_resA=Contaminante[Contaminante[\"CLASIFICACION\"]==\"A\"].sort_values(by=\"RESISTENCIA\", ascending=False).reset_index()\n",
    "del cont_resA[\"index\"]\n",
    "\n",
    "cont_resB=Contaminante[Contaminante[\"CLASIFICACION\"]==\"B\"].sort_values(by=\"RESISTENCIA\", ascending=False).reset_index()\n",
    "del cont_resB[\"index\"]\n",
    "\n",
    "cont_resC=Contaminante[Contaminante[\"CLASIFICACION\"]==\"C\"].sort_values(by=\"RESISTENCIA\", ascending=False).reset_index()\n",
    "del cont_resC[\"index\"]\n",
    "\n",
    "cont_resD=Contaminante[Contaminante[\"CLASIFICACION\"]==\"D\"].sort_values(by=\"RESISTENCIA\", ascending=False).reset_index()\n",
    "del cont_resD[\"index\"]\n",
    "\n",
    "\n",
    "#UBICACIONES \n",
    "cont_ubiA=ubi_cont1N[ubi_cont1N[\"ZONA\"]==\"A\"].sort_values(by=\"UBICACION\", ascending=True).reset_index()\n",
    "del cont_ubiA[\"index\"]\n",
    "\n",
    "cont_ubiB=ubi_cont1N[ubi_cont1N[\"ZONA\"]==\"B\"].sort_values(by=\"UBICACION\", ascending=True).reset_index()\n",
    "del cont_ubiB[\"index\"]\n",
    "\n",
    "cont_ubiC=ubi_cont1N[ubi_cont1N[\"ZONA\"]==\"C\"].sort_values(by=\"UBICACION\", ascending=True).reset_index()\n",
    "del cont_ubiC[\"index\"]\n",
    "\n",
    "cont_ubiD=ubi_cont1N[ubi_cont1N[\"ZONA\"]==\"D\"].sort_values(by=\"UBICACION\", ascending=True).reset_index()\n",
    "del cont_ubiD[\"index\"]"
   ]
  },
  {
   "cell_type": "markdown",
   "metadata": {},
   "source": [
    "<h3> Zona A: Zona - Reubicación"
   ]
  },
  {
   "cell_type": "code",
   "execution_count": 75,
   "metadata": {},
   "outputs": [
    {
     "data": {
      "text/html": [
       "<div>\n",
       "<style scoped>\n",
       "    .dataframe tbody tr th:only-of-type {\n",
       "        vertical-align: middle;\n",
       "    }\n",
       "\n",
       "    .dataframe tbody tr th {\n",
       "        vertical-align: top;\n",
       "    }\n",
       "\n",
       "    .dataframe thead th {\n",
       "        text-align: right;\n",
       "    }\n",
       "</style>\n",
       "<table border=\"1\" class=\"dataframe\">\n",
       "  <thead>\n",
       "    <tr style=\"text-align: right;\">\n",
       "      <th></th>\n",
       "      <th>COD_BARRAS</th>\n",
       "      <th>RESISTENCIA</th>\n",
       "      <th>UBICACION</th>\n",
       "      <th>ZONA</th>\n",
       "    </tr>\n",
       "  </thead>\n",
       "  <tbody>\n",
       "    <tr>\n",
       "      <th>0</th>\n",
       "      <td>51342179077</td>\n",
       "      <td>4.0</td>\n",
       "      <td>5010210001</td>\n",
       "      <td>A</td>\n",
       "    </tr>\n",
       "    <tr>\n",
       "      <th>1</th>\n",
       "      <td>51342201204</td>\n",
       "      <td>4.0</td>\n",
       "      <td>5010220001</td>\n",
       "      <td>A</td>\n",
       "    </tr>\n",
       "  </tbody>\n",
       "</table>\n",
       "</div>"
      ],
      "text/plain": [
       "    COD_BARRAS  RESISTENCIA   UBICACION ZONA\n",
       "0  51342179077          4.0  5010210001    A\n",
       "1  51342201204          4.0  5010220001    A"
      ]
     },
     "metadata": {},
     "output_type": "display_data"
    },
    {
     "data": {
      "text/plain": [
       "(1348, 4)"
      ]
     },
     "metadata": {},
     "output_type": "display_data"
    }
   ],
   "source": [
    "cont_ubiA['indice']=cont_ubiA.index \n",
    "cont_resA['indice']=cont_resA.index\n",
    "\n",
    "# Asignación de cb a ubicaciones\n",
    "cb_ubi_A=pd.merge(cont_resA,cont_ubiA, on=\"indice\", how=\"inner\")\n",
    "\n",
    "ub_cont_A=cb_ubi_A[[\"COD_BARRAS\",\"RESISTENCIA\",\"UBICACION\",\"ZONA\"]]\n",
    "\n",
    "display(ub_cont_A.head(2),ub_cont_A.shape)"
   ]
  },
  {
   "cell_type": "markdown",
   "metadata": {},
   "source": [
    "<h3> Zona B: Zona - Reubicación"
   ]
  },
  {
   "cell_type": "code",
   "execution_count": 76,
   "metadata": {},
   "outputs": [
    {
     "data": {
      "text/html": [
       "<div>\n",
       "<style scoped>\n",
       "    .dataframe tbody tr th:only-of-type {\n",
       "        vertical-align: middle;\n",
       "    }\n",
       "\n",
       "    .dataframe tbody tr th {\n",
       "        vertical-align: top;\n",
       "    }\n",
       "\n",
       "    .dataframe thead th {\n",
       "        text-align: right;\n",
       "    }\n",
       "</style>\n",
       "<table border=\"1\" class=\"dataframe\">\n",
       "  <thead>\n",
       "    <tr style=\"text-align: right;\">\n",
       "      <th></th>\n",
       "      <th>COD_BARRAS</th>\n",
       "      <th>RESISTENCIA</th>\n",
       "      <th>UBICACION</th>\n",
       "      <th>ZONA</th>\n",
       "    </tr>\n",
       "  </thead>\n",
       "  <tbody>\n",
       "    <tr>\n",
       "      <th>0</th>\n",
       "      <td>51342201228</td>\n",
       "      <td>4.0</td>\n",
       "      <td>5010090001</td>\n",
       "      <td>B</td>\n",
       "    </tr>\n",
       "    <tr>\n",
       "      <th>1</th>\n",
       "      <td>51342201242</td>\n",
       "      <td>4.0</td>\n",
       "      <td>5010100001</td>\n",
       "      <td>B</td>\n",
       "    </tr>\n",
       "  </tbody>\n",
       "</table>\n",
       "</div>"
      ],
      "text/plain": [
       "    COD_BARRAS  RESISTENCIA   UBICACION ZONA\n",
       "0  51342201228          4.0  5010090001    B\n",
       "1  51342201242          4.0  5010100001    B"
      ]
     },
     "metadata": {},
     "output_type": "display_data"
    },
    {
     "data": {
      "text/plain": [
       "(648, 4)"
      ]
     },
     "metadata": {},
     "output_type": "display_data"
    }
   ],
   "source": [
    "# ZONA UBICACIONES \"B\"\n",
    "cont_ubiB['indice']=cont_ubiB.index \n",
    "cont_resB['indice']=cont_resB.index\n",
    "\n",
    "cb_ubi_B=pd.merge(cont_resB,cont_ubiB, on=\"indice\", how=\"inner\")\n",
    "\n",
    "ub_cont_B=cb_ubi_B[[\"COD_BARRAS\",\"RESISTENCIA\",\"UBICACION\",\"ZONA\"]]\n",
    "\n",
    "display(ub_cont_B.head(2),ub_cont_B.shape)"
   ]
  },
  {
   "cell_type": "markdown",
   "metadata": {},
   "source": [
    "<h3> Zona C: Zona - Reubicación"
   ]
  },
  {
   "cell_type": "code",
   "execution_count": 77,
   "metadata": {},
   "outputs": [
    {
     "data": {
      "text/html": [
       "<div>\n",
       "<style scoped>\n",
       "    .dataframe tbody tr th:only-of-type {\n",
       "        vertical-align: middle;\n",
       "    }\n",
       "\n",
       "    .dataframe tbody tr th {\n",
       "        vertical-align: top;\n",
       "    }\n",
       "\n",
       "    .dataframe thead th {\n",
       "        text-align: right;\n",
       "    }\n",
       "</style>\n",
       "<table border=\"1\" class=\"dataframe\">\n",
       "  <thead>\n",
       "    <tr style=\"text-align: right;\">\n",
       "      <th></th>\n",
       "      <th>COD_BARRAS</th>\n",
       "      <th>RESISTENCIA</th>\n",
       "      <th>UBICACION</th>\n",
       "      <th>ZONA</th>\n",
       "    </tr>\n",
       "  </thead>\n",
       "  <tbody>\n",
       "    <tr>\n",
       "      <th>0</th>\n",
       "      <td>51342179145</td>\n",
       "      <td>4.0</td>\n",
       "      <td>5010010001</td>\n",
       "      <td>C</td>\n",
       "    </tr>\n",
       "    <tr>\n",
       "      <th>1</th>\n",
       "      <td>51342179121</td>\n",
       "      <td>4.0</td>\n",
       "      <td>5010011001</td>\n",
       "      <td>C</td>\n",
       "    </tr>\n",
       "  </tbody>\n",
       "</table>\n",
       "</div>"
      ],
      "text/plain": [
       "    COD_BARRAS  RESISTENCIA   UBICACION ZONA\n",
       "0  51342179145          4.0  5010010001    C\n",
       "1  51342179121          4.0  5010011001    C"
      ]
     },
     "metadata": {},
     "output_type": "display_data"
    },
    {
     "data": {
      "text/plain": [
       "(1052, 4)"
      ]
     },
     "metadata": {},
     "output_type": "display_data"
    }
   ],
   "source": [
    "# ZONA UBICACIONES \"C\"\n",
    "cont_ubiC['indice']=cont_ubiC.index \n",
    "cont_resC['indice']=cont_resC.index\n",
    "\n",
    "cb_ubi_C=pd.merge(cont_resC,cont_ubiC, on=\"indice\", how=\"inner\")\n",
    "\n",
    "ub_cont_C=cb_ubi_C[[\"COD_BARRAS\",\"RESISTENCIA\",\"UBICACION\",\"ZONA\"]]\n",
    "display(ub_cont_C.head(2),ub_cont_C.shape)"
   ]
  },
  {
   "cell_type": "markdown",
   "metadata": {},
   "source": [
    "<h3> Zona D: Zona - Reubicación"
   ]
  },
  {
   "cell_type": "code",
   "execution_count": 78,
   "metadata": {},
   "outputs": [
    {
     "data": {
      "text/html": [
       "<div>\n",
       "<style scoped>\n",
       "    .dataframe tbody tr th:only-of-type {\n",
       "        vertical-align: middle;\n",
       "    }\n",
       "\n",
       "    .dataframe tbody tr th {\n",
       "        vertical-align: top;\n",
       "    }\n",
       "\n",
       "    .dataframe thead th {\n",
       "        text-align: right;\n",
       "    }\n",
       "</style>\n",
       "<table border=\"1\" class=\"dataframe\">\n",
       "  <thead>\n",
       "    <tr style=\"text-align: right;\">\n",
       "      <th></th>\n",
       "      <th>COD_BARRAS</th>\n",
       "      <th>RESISTENCIA</th>\n",
       "      <th>UBICACION</th>\n",
       "      <th>ZONA</th>\n",
       "    </tr>\n",
       "  </thead>\n",
       "  <tbody>\n",
       "    <tr>\n",
       "      <th>0</th>\n",
       "      <td>51342191383</td>\n",
       "      <td>4.0</td>\n",
       "      <td>5270230001</td>\n",
       "      <td>D</td>\n",
       "    </tr>\n",
       "    <tr>\n",
       "      <th>1</th>\n",
       "      <td>51342206964</td>\n",
       "      <td>4.0</td>\n",
       "      <td>5270230010</td>\n",
       "      <td>D</td>\n",
       "    </tr>\n",
       "  </tbody>\n",
       "</table>\n",
       "</div>"
      ],
      "text/plain": [
       "    COD_BARRAS  RESISTENCIA   UBICACION ZONA\n",
       "0  51342191383          4.0  5270230001    D\n",
       "1  51342206964          4.0  5270230010    D"
      ]
     },
     "metadata": {},
     "output_type": "display_data"
    },
    {
     "data": {
      "text/plain": [
       "(886, 4)"
      ]
     },
     "metadata": {},
     "output_type": "display_data"
    }
   ],
   "source": [
    "cont_ubiD['indice']=cont_ubiD.index \n",
    "cont_resD['indice']=cont_resD.index\n",
    "\n",
    "cb_ubi_D=pd.merge(cont_resD,cont_ubiD, on=\"indice\", how=\"inner\")\n",
    "\n",
    "ub_cont_D=cb_ubi_D[[\"COD_BARRAS\",\"RESISTENCIA\",\"UBICACION\",\"ZONA\"]]\n",
    "display(ub_cont_D.head(2),ub_cont_D.shape)"
   ]
  },
  {
   "cell_type": "markdown",
   "metadata": {},
   "source": [
    "<h3> Uniendo reubicación de zonas en uno solo de Contaminantes"
   ]
  },
  {
   "cell_type": "code",
   "execution_count": 79,
   "metadata": {},
   "outputs": [
    {
     "data": {
      "text/html": [
       "<div>\n",
       "<style scoped>\n",
       "    .dataframe tbody tr th:only-of-type {\n",
       "        vertical-align: middle;\n",
       "    }\n",
       "\n",
       "    .dataframe tbody tr th {\n",
       "        vertical-align: top;\n",
       "    }\n",
       "\n",
       "    .dataframe thead th {\n",
       "        text-align: right;\n",
       "    }\n",
       "</style>\n",
       "<table border=\"1\" class=\"dataframe\">\n",
       "  <thead>\n",
       "    <tr style=\"text-align: right;\">\n",
       "      <th></th>\n",
       "      <th>COD_BARRAS</th>\n",
       "      <th>RESISTENCIA</th>\n",
       "      <th>UBICACION</th>\n",
       "      <th>ZONA</th>\n",
       "    </tr>\n",
       "  </thead>\n",
       "  <tbody>\n",
       "    <tr>\n",
       "      <th>0</th>\n",
       "      <td>51342179077</td>\n",
       "      <td>4.0</td>\n",
       "      <td>5010210001</td>\n",
       "      <td>A</td>\n",
       "    </tr>\n",
       "    <tr>\n",
       "      <th>1</th>\n",
       "      <td>51342201204</td>\n",
       "      <td>4.0</td>\n",
       "      <td>5010220001</td>\n",
       "      <td>A</td>\n",
       "    </tr>\n",
       "  </tbody>\n",
       "</table>\n",
       "</div>"
      ],
      "text/plain": [
       "    COD_BARRAS  RESISTENCIA   UBICACION ZONA\n",
       "0  51342179077          4.0  5010210001    A\n",
       "1  51342201204          4.0  5010220001    A"
      ]
     },
     "metadata": {},
     "output_type": "display_data"
    },
    {
     "data": {
      "text/plain": [
       "(3934, 4)"
      ]
     },
     "metadata": {},
     "output_type": "display_data"
    }
   ],
   "source": [
    "REUBI_CONT=pd.concat([ub_cont_A,ub_cont_B,ub_cont_C,ub_cont_D])\n",
    "display(REUBI_CONT.head(2),REUBI_CONT.shape)"
   ]
  },
  {
   "cell_type": "code",
   "execution_count": null,
   "metadata": {},
   "outputs": [],
   "source": []
  },
  {
   "cell_type": "code",
   "execution_count": null,
   "metadata": {},
   "outputs": [],
   "source": []
  },
  {
   "cell_type": "code",
   "execution_count": null,
   "metadata": {},
   "outputs": [],
   "source": []
  },
  {
   "cell_type": "markdown",
   "metadata": {},
   "source": [
    "<h2> NO CONTAMINANTES\n",
    "    \n",
    "<h4> Datos necesarios de contaminantes\n",
    "        "
   ]
  },
  {
   "cell_type": "code",
   "execution_count": 80,
   "metadata": {},
   "outputs": [
    {
     "data": {
      "text/html": [
       "<div>\n",
       "<style scoped>\n",
       "    .dataframe tbody tr th:only-of-type {\n",
       "        vertical-align: middle;\n",
       "    }\n",
       "\n",
       "    .dataframe tbody tr th {\n",
       "        vertical-align: top;\n",
       "    }\n",
       "\n",
       "    .dataframe thead th {\n",
       "        text-align: right;\n",
       "    }\n",
       "</style>\n",
       "<table border=\"1\" class=\"dataframe\">\n",
       "  <thead>\n",
       "    <tr style=\"text-align: right;\">\n",
       "      <th></th>\n",
       "      <th>COD_BARRAS</th>\n",
       "      <th>CLASIFICACION</th>\n",
       "      <th>RESISTENCIA</th>\n",
       "    </tr>\n",
       "  </thead>\n",
       "  <tbody>\n",
       "    <tr>\n",
       "      <th>0</th>\n",
       "      <td>7861024607674</td>\n",
       "      <td>A</td>\n",
       "      <td>4.0</td>\n",
       "    </tr>\n",
       "    <tr>\n",
       "      <th>1</th>\n",
       "      <td>759494000323</td>\n",
       "      <td>A</td>\n",
       "      <td>4.0</td>\n",
       "    </tr>\n",
       "  </tbody>\n",
       "</table>\n",
       "</div>"
      ],
      "text/plain": [
       "      COD_BARRAS CLASIFICACION  RESISTENCIA\n",
       "0  7861024607674             A          4.0\n",
       "1   759494000323             A          4.0"
      ]
     },
     "metadata": {},
     "output_type": "display_data"
    },
    {
     "data": {
      "text/plain": [
       "(13595, 3)"
      ]
     },
     "metadata": {},
     "output_type": "display_data"
    }
   ],
   "source": [
    "NO_contaminante=pd.merge(cbT,DESP2019_resis,on=\"COD_BARRAS\")\n",
    "\n",
    "NO_Contaminante=NO_contaminante[[\"COD_BARRAS\",\"CLASIFICACION\",\"RESISTENCIA\"]]\n",
    "\n",
    "display(NO_Contaminante.head(2),NO_Contaminante.shape)"
   ]
  },
  {
   "cell_type": "markdown",
   "metadata": {},
   "source": [
    "<h4> Organizando resistencias y ubicaciones para reubicar"
   ]
  },
  {
   "cell_type": "code",
   "execution_count": 101,
   "metadata": {},
   "outputs": [],
   "source": [
    "# CODIGOS DE BARRA\n",
    "NOcont_resA=NO_Contaminante[NO_Contaminante[\"CLASIFICACION\"]==\"A\"].sort_values(by=\"RESISTENCIA\", ascending=False).reset_index()\n",
    "del NOcont_resA[\"index\"]\n",
    "\n",
    "NOcont_resB=NO_Contaminante[NO_Contaminante[\"CLASIFICACION\"]==\"B\"].sort_values(by=\"RESISTENCIA\", ascending=False).reset_index()\n",
    "del NOcont_resB[\"index\"]\n",
    "\n",
    "NOcont_resC=NO_Contaminante[NO_Contaminante[\"CLASIFICACION\"]==\"C\"].sort_values(by=\"RESISTENCIA\", ascending=False).reset_index()\n",
    "del NOcont_resC[\"index\"]\n",
    "\n",
    "NOcont_resD=NO_Contaminante[NO_Contaminante[\"CLASIFICACION\"]==\"D\"].sort_values(by=\"RESISTENCIA\", ascending=False).reset_index()\n",
    "del NOcont_resD[\"index\"]\n",
    "\n",
    "\n",
    "#UBICACIONES\n",
    "# ZONA A\n",
    "A=ubi_NOcont1N[ubi_NOcont1N[\"ZONA\"]==\"A\"]\n",
    "A1=A[A[\"NAVE\"]==1].sort_values(by=\"UBICACION\", ascending=True)\n",
    "A234=A.loc[A['NAVE'].isin([2,3,4])].sort_values(by=\"UBICACION\", ascending=False)\n",
    "NOcont_ubiA=pd.concat([A1,A234]).reset_index()\n",
    "del NOcont_ubiA[\"index\"]\n",
    "\n",
    "# ZONA B\n",
    "B=ubi_NOcont1N[ubi_NOcont1N[\"ZONA\"]==\"B\"]\n",
    "B1=B[B[\"NAVE\"]==1].sort_values(by=\"UBICACION\", ascending=True)\n",
    "B234=B.loc[B['NAVE'].isin([2,3,4])].sort_values(by=\"UBICACION\", ascending=False)\n",
    "NOcont_ubiB=pd.concat([B1,B234]).reset_index()\n",
    "del NOcont_ubiB[\"index\"]\n",
    "\n",
    "# ZONA C\n",
    "C=ubi_NOcont1N[ubi_NOcont1N[\"ZONA\"]==\"C\"]\n",
    "C1=C[C[\"NAVE\"]==1].sort_values(by=\"UBICACION\", ascending=True)\n",
    "C234=C.loc[C['NAVE'].isin([2,3,4])].sort_values(by=\"UBICACION\", ascending=False)\n",
    "NOcont_ubiC=pd.concat([C1,C234]).reset_index()\n",
    "del NOcont_ubiC[\"index\"]\n",
    "\n",
    "# ZONA D\n",
    "D=ubi_NOcont1N[ubi_NOcont1N[\"ZONA\"]==\"D\"]\n",
    "D1=D[D[\"NAVE\"]==1].sort_values(by=\"UBICACION\", ascending=True)\n",
    "D234=D.loc[D['NAVE'].isin([2,3,4])].sort_values(by=\"UBICACION\", ascending=False)\n",
    "NOcont_ubiD=pd.concat([D1,D234]).reset_index()\n",
    "del NOcont_ubiD[\"index\"]"
   ]
  },
  {
   "cell_type": "markdown",
   "metadata": {},
   "source": [
    "<h3> Zona A: Zona - Reubicación"
   ]
  },
  {
   "cell_type": "code",
   "execution_count": 102,
   "metadata": {},
   "outputs": [
    {
     "data": {
      "text/html": [
       "<div>\n",
       "<style scoped>\n",
       "    .dataframe tbody tr th:only-of-type {\n",
       "        vertical-align: middle;\n",
       "    }\n",
       "\n",
       "    .dataframe tbody tr th {\n",
       "        vertical-align: top;\n",
       "    }\n",
       "\n",
       "    .dataframe thead th {\n",
       "        text-align: right;\n",
       "    }\n",
       "</style>\n",
       "<table border=\"1\" class=\"dataframe\">\n",
       "  <thead>\n",
       "    <tr style=\"text-align: right;\">\n",
       "      <th></th>\n",
       "      <th>COD_BARRAS</th>\n",
       "      <th>RESISTENCIA</th>\n",
       "      <th>UBICACION</th>\n",
       "      <th>ZONA</th>\n",
       "    </tr>\n",
       "  </thead>\n",
       "  <tbody>\n",
       "    <tr>\n",
       "      <th>0</th>\n",
       "      <td>7861024607674</td>\n",
       "      <td>4.0</td>\n",
       "      <td>1140010001</td>\n",
       "      <td>A</td>\n",
       "    </tr>\n",
       "    <tr>\n",
       "      <th>1</th>\n",
       "      <td>7861042516804</td>\n",
       "      <td>4.0</td>\n",
       "      <td>1140011001</td>\n",
       "      <td>A</td>\n",
       "    </tr>\n",
       "  </tbody>\n",
       "</table>\n",
       "</div>"
      ],
      "text/plain": [
       "      COD_BARRAS  RESISTENCIA   UBICACION ZONA\n",
       "0  7861024607674          4.0  1140010001    A\n",
       "1  7861042516804          4.0  1140011001    A"
      ]
     },
     "metadata": {},
     "output_type": "display_data"
    },
    {
     "data": {
      "text/plain": [
       "(3696, 4)"
      ]
     },
     "metadata": {},
     "output_type": "display_data"
    }
   ],
   "source": [
    "NOcont_ubiA['indice']=NOcont_ubiA.index \n",
    "NOcont_resA['indice']=NOcont_resA.index\n",
    "\n",
    "# Asignación de cb a ubicaciones\n",
    "NCcb_ubi_A=pd.merge(NOcont_resA,NOcont_ubiA, on=\"indice\", how=\"inner\")\n",
    "\n",
    "NCub_cont_A=NCcb_ubi_A[[\"COD_BARRAS\",\"RESISTENCIA\",\"UBICACION\",\"ZONA\"]]\n",
    "\n",
    "display(NCub_cont_A.head(2),NCub_cont_A.shape)"
   ]
  },
  {
   "cell_type": "markdown",
   "metadata": {},
   "source": [
    "<h3> Zona  B: Zona - Reubicación"
   ]
  },
  {
   "cell_type": "code",
   "execution_count": 103,
   "metadata": {},
   "outputs": [
    {
     "data": {
      "text/html": [
       "<div>\n",
       "<style scoped>\n",
       "    .dataframe tbody tr th:only-of-type {\n",
       "        vertical-align: middle;\n",
       "    }\n",
       "\n",
       "    .dataframe tbody tr th {\n",
       "        vertical-align: top;\n",
       "    }\n",
       "\n",
       "    .dataframe thead th {\n",
       "        text-align: right;\n",
       "    }\n",
       "</style>\n",
       "<table border=\"1\" class=\"dataframe\">\n",
       "  <thead>\n",
       "    <tr style=\"text-align: right;\">\n",
       "      <th></th>\n",
       "      <th>COD_BARRAS</th>\n",
       "      <th>RESISTENCIA</th>\n",
       "      <th>UBICACION</th>\n",
       "      <th>ZONA</th>\n",
       "    </tr>\n",
       "  </thead>\n",
       "  <tbody>\n",
       "    <tr>\n",
       "      <th>0</th>\n",
       "      <td>7861030531024</td>\n",
       "      <td>4.0</td>\n",
       "      <td>1140110001</td>\n",
       "      <td>B</td>\n",
       "    </tr>\n",
       "    <tr>\n",
       "      <th>1</th>\n",
       "      <td>794166004605</td>\n",
       "      <td>4.0</td>\n",
       "      <td>1140110010</td>\n",
       "      <td>B</td>\n",
       "    </tr>\n",
       "  </tbody>\n",
       "</table>\n",
       "</div>"
      ],
      "text/plain": [
       "      COD_BARRAS  RESISTENCIA   UBICACION ZONA\n",
       "0  7861030531024          4.0  1140110001    B\n",
       "1   794166004605          4.0  1140110010    B"
      ]
     },
     "metadata": {},
     "output_type": "display_data"
    },
    {
     "data": {
      "text/plain": [
       "(2074, 4)"
      ]
     },
     "metadata": {},
     "output_type": "display_data"
    }
   ],
   "source": [
    "NOcont_ubiB['indice']=NOcont_ubiB.index \n",
    "NOcont_resB['indice']=NOcont_resB.index\n",
    "\n",
    "# Asignación de cb a ubicaciones\n",
    "NCcb_ubi_B=pd.merge(NOcont_resB,NOcont_ubiB, on=\"indice\", how=\"inner\")\n",
    "\n",
    "NCub_cont_B=NCcb_ubi_B[[\"COD_BARRAS\",\"RESISTENCIA\",\"UBICACION\",\"ZONA\"]]\n",
    "\n",
    "display(NCub_cont_B.head(2),NCub_cont_B.shape)"
   ]
  },
  {
   "cell_type": "markdown",
   "metadata": {},
   "source": [
    "<h3> Zona C: Zona - Reubicación"
   ]
  },
  {
   "cell_type": "code",
   "execution_count": 104,
   "metadata": {},
   "outputs": [
    {
     "data": {
      "text/html": [
       "<div>\n",
       "<style scoped>\n",
       "    .dataframe tbody tr th:only-of-type {\n",
       "        vertical-align: middle;\n",
       "    }\n",
       "\n",
       "    .dataframe tbody tr th {\n",
       "        vertical-align: top;\n",
       "    }\n",
       "\n",
       "    .dataframe thead th {\n",
       "        text-align: right;\n",
       "    }\n",
       "</style>\n",
       "<table border=\"1\" class=\"dataframe\">\n",
       "  <thead>\n",
       "    <tr style=\"text-align: right;\">\n",
       "      <th></th>\n",
       "      <th>COD_BARRAS</th>\n",
       "      <th>RESISTENCIA</th>\n",
       "      <th>UBICACION</th>\n",
       "      <th>ZONA</th>\n",
       "    </tr>\n",
       "  </thead>\n",
       "  <tbody>\n",
       "    <tr>\n",
       "      <th>0</th>\n",
       "      <td>5701116211216</td>\n",
       "      <td>4.0</td>\n",
       "      <td>1010501001</td>\n",
       "      <td>C</td>\n",
       "    </tr>\n",
       "    <tr>\n",
       "      <th>1</th>\n",
       "      <td>7861000261166</td>\n",
       "      <td>4.0</td>\n",
       "      <td>1010511001</td>\n",
       "      <td>C</td>\n",
       "    </tr>\n",
       "  </tbody>\n",
       "</table>\n",
       "</div>"
      ],
      "text/plain": [
       "      COD_BARRAS  RESISTENCIA   UBICACION ZONA\n",
       "0  5701116211216          4.0  1010501001    C\n",
       "1  7861000261166          4.0  1010511001    C"
      ]
     },
     "metadata": {},
     "output_type": "display_data"
    },
    {
     "data": {
      "text/plain": [
       "(3776, 4)"
      ]
     },
     "metadata": {},
     "output_type": "display_data"
    }
   ],
   "source": [
    "NOcont_ubiC['indice']=NOcont_ubiC.index \n",
    "NOcont_resC['indice']=NOcont_resC.index\n",
    "\n",
    "# Asignación de cb a ubicaciones\n",
    "NCcb_ubi_C=pd.merge(NOcont_resC,NOcont_ubiC, on=\"indice\", how=\"inner\")\n",
    "\n",
    "NCub_cont_C=NCcb_ubi_C[[\"COD_BARRAS\",\"RESISTENCIA\",\"UBICACION\",\"ZONA\"]]\n",
    "\n",
    "display(NCub_cont_C.head(2),NCub_cont_C.shape)"
   ]
  },
  {
   "cell_type": "markdown",
   "metadata": {},
   "source": [
    "<h3> Zona D: Zona - Reubicación"
   ]
  },
  {
   "cell_type": "code",
   "execution_count": 105,
   "metadata": {},
   "outputs": [
    {
     "data": {
      "text/html": [
       "<div>\n",
       "<style scoped>\n",
       "    .dataframe tbody tr th:only-of-type {\n",
       "        vertical-align: middle;\n",
       "    }\n",
       "\n",
       "    .dataframe tbody tr th {\n",
       "        vertical-align: top;\n",
       "    }\n",
       "\n",
       "    .dataframe thead th {\n",
       "        text-align: right;\n",
       "    }\n",
       "</style>\n",
       "<table border=\"1\" class=\"dataframe\">\n",
       "  <thead>\n",
       "    <tr style=\"text-align: right;\">\n",
       "      <th></th>\n",
       "      <th>COD_BARRAS</th>\n",
       "      <th>RESISTENCIA</th>\n",
       "      <th>UBICACION</th>\n",
       "      <th>ZONA</th>\n",
       "    </tr>\n",
       "  </thead>\n",
       "  <tbody>\n",
       "    <tr>\n",
       "      <th>0</th>\n",
       "      <td>715126600033</td>\n",
       "      <td>4.0</td>\n",
       "      <td>1020010001</td>\n",
       "      <td>D</td>\n",
       "    </tr>\n",
       "    <tr>\n",
       "      <th>1</th>\n",
       "      <td>7862117760269</td>\n",
       "      <td>4.0</td>\n",
       "      <td>1020020001</td>\n",
       "      <td>D</td>\n",
       "    </tr>\n",
       "  </tbody>\n",
       "</table>\n",
       "</div>"
      ],
      "text/plain": [
       "      COD_BARRAS  RESISTENCIA   UBICACION ZONA\n",
       "0   715126600033          4.0  1020010001    D\n",
       "1  7862117760269          4.0  1020020001    D"
      ]
     },
     "metadata": {},
     "output_type": "display_data"
    },
    {
     "data": {
      "text/plain": [
       "(4049, 4)"
      ]
     },
     "metadata": {},
     "output_type": "display_data"
    }
   ],
   "source": [
    "NOcont_ubiD['indice']=NOcont_ubiD.index \n",
    "NOcont_resD['indice']=NOcont_resD.index\n",
    "\n",
    "# Asignación de cb a ubicaciones\n",
    "NCcb_ubi_D=pd.merge(NOcont_resD,NOcont_ubiD, on=\"indice\", how=\"inner\")\n",
    "\n",
    "NCub_cont_D=NCcb_ubi_D[[\"COD_BARRAS\",\"RESISTENCIA\",\"UBICACION\",\"ZONA\"]]\n",
    "\n",
    "display(NCub_cont_D.head(2),NCub_cont_D.shape)"
   ]
  },
  {
   "cell_type": "markdown",
   "metadata": {},
   "source": [
    "<h3> Uniendo reubicación de zonas en uno solo de NO Contaminantes"
   ]
  },
  {
   "cell_type": "code",
   "execution_count": 107,
   "metadata": {},
   "outputs": [
    {
     "data": {
      "text/html": [
       "<div>\n",
       "<style scoped>\n",
       "    .dataframe tbody tr th:only-of-type {\n",
       "        vertical-align: middle;\n",
       "    }\n",
       "\n",
       "    .dataframe tbody tr th {\n",
       "        vertical-align: top;\n",
       "    }\n",
       "\n",
       "    .dataframe thead th {\n",
       "        text-align: right;\n",
       "    }\n",
       "</style>\n",
       "<table border=\"1\" class=\"dataframe\">\n",
       "  <thead>\n",
       "    <tr style=\"text-align: right;\">\n",
       "      <th></th>\n",
       "      <th>COD_BARRAS</th>\n",
       "      <th>RESISTENCIA</th>\n",
       "      <th>UBICACION</th>\n",
       "      <th>ZONA</th>\n",
       "    </tr>\n",
       "  </thead>\n",
       "  <tbody>\n",
       "    <tr>\n",
       "      <th>0</th>\n",
       "      <td>7861024607674</td>\n",
       "      <td>4.0</td>\n",
       "      <td>1140010001</td>\n",
       "      <td>A</td>\n",
       "    </tr>\n",
       "    <tr>\n",
       "      <th>1</th>\n",
       "      <td>7861042516804</td>\n",
       "      <td>4.0</td>\n",
       "      <td>1140011001</td>\n",
       "      <td>A</td>\n",
       "    </tr>\n",
       "  </tbody>\n",
       "</table>\n",
       "</div>"
      ],
      "text/plain": [
       "      COD_BARRAS  RESISTENCIA   UBICACION ZONA\n",
       "0  7861024607674          4.0  1140010001    A\n",
       "1  7861042516804          4.0  1140011001    A"
      ]
     },
     "metadata": {},
     "output_type": "display_data"
    },
    {
     "data": {
      "text/plain": [
       "(13595, 4)"
      ]
     },
     "metadata": {},
     "output_type": "display_data"
    }
   ],
   "source": [
    "REUBI_NO_CONT=pd.concat([NCub_cont_A,NCub_cont_B,NCub_cont_C,NCub_cont_D])\n",
    "display(REUBI_NO_CONT.head(2),REUBI_NO_CONT.shape)"
   ]
  },
  {
   "cell_type": "markdown",
   "metadata": {},
   "source": [
    "<H3> FINAL REUBICACION"
   ]
  },
  {
   "cell_type": "code",
   "execution_count": 108,
   "metadata": {},
   "outputs": [
    {
     "data": {
      "text/html": [
       "<div>\n",
       "<style scoped>\n",
       "    .dataframe tbody tr th:only-of-type {\n",
       "        vertical-align: middle;\n",
       "    }\n",
       "\n",
       "    .dataframe tbody tr th {\n",
       "        vertical-align: top;\n",
       "    }\n",
       "\n",
       "    .dataframe thead th {\n",
       "        text-align: right;\n",
       "    }\n",
       "</style>\n",
       "<table border=\"1\" class=\"dataframe\">\n",
       "  <thead>\n",
       "    <tr style=\"text-align: right;\">\n",
       "      <th></th>\n",
       "      <th>COD_BARRAS</th>\n",
       "      <th>RESISTENCIA</th>\n",
       "      <th>REUBICACION</th>\n",
       "      <th>ZONA</th>\n",
       "    </tr>\n",
       "  </thead>\n",
       "  <tbody>\n",
       "    <tr>\n",
       "      <th>0</th>\n",
       "      <td>51342179077</td>\n",
       "      <td>4.0</td>\n",
       "      <td>5010210001</td>\n",
       "      <td>A</td>\n",
       "    </tr>\n",
       "    <tr>\n",
       "      <th>1</th>\n",
       "      <td>51342201204</td>\n",
       "      <td>4.0</td>\n",
       "      <td>5010220001</td>\n",
       "      <td>A</td>\n",
       "    </tr>\n",
       "  </tbody>\n",
       "</table>\n",
       "</div>"
      ],
      "text/plain": [
       "    COD_BARRAS  RESISTENCIA  REUBICACION ZONA\n",
       "0  51342179077          4.0   5010210001    A\n",
       "1  51342201204          4.0   5010220001    A"
      ]
     },
     "metadata": {},
     "output_type": "display_data"
    },
    {
     "data": {
      "text/plain": [
       "(17529, 4)"
      ]
     },
     "metadata": {},
     "output_type": "display_data"
    }
   ],
   "source": [
    "REUBICACION_MAM2019=pd.concat([REUBI_CONT,REUBI_NO_CONT])\n",
    "REUBICACION_MAM2019.rename({\"UBICACION\":\"REUBICACION\"},axis=1,inplace=True)\n",
    "display(REUBICACION_MAM2019.head(2),REUBICACION_MAM2019.shape)"
   ]
  },
  {
   "cell_type": "code",
   "execution_count": 109,
   "metadata": {},
   "outputs": [],
   "source": [
    "REUBICACION_MAM2019.to_csv(\"REUBICACION_MAM2019_MODI.csv\",index=False,header=True) # CON ciertos racks de nivel 2"
   ]
  },
  {
   "cell_type": "code",
   "execution_count": 3,
   "metadata": {},
   "outputs": [],
   "source": [
    "REUBICACION_MAM2019=pd.read_csv(\"REUBICACION_MAM2019_MODI.csv\")"
   ]
  },
  {
   "cell_type": "code",
   "execution_count": 8,
   "metadata": {},
   "outputs": [
    {
     "data": {
      "text/html": [
       "<div>\n",
       "<style scoped>\n",
       "    .dataframe tbody tr th:only-of-type {\n",
       "        vertical-align: middle;\n",
       "    }\n",
       "\n",
       "    .dataframe tbody tr th {\n",
       "        vertical-align: top;\n",
       "    }\n",
       "\n",
       "    .dataframe thead th {\n",
       "        text-align: right;\n",
       "    }\n",
       "</style>\n",
       "<table border=\"1\" class=\"dataframe\">\n",
       "  <thead>\n",
       "    <tr style=\"text-align: right;\">\n",
       "      <th></th>\n",
       "      <th>COD_BARRAS</th>\n",
       "      <th>RESISTENCIA</th>\n",
       "      <th>REUBICACION</th>\n",
       "      <th>ZONA</th>\n",
       "      <th>NAVE</th>\n",
       "    </tr>\n",
       "  </thead>\n",
       "  <tbody>\n",
       "    <tr>\n",
       "      <th>0</th>\n",
       "      <td>51342179077</td>\n",
       "      <td>4.0</td>\n",
       "      <td>5010210001</td>\n",
       "      <td>A</td>\n",
       "      <td>5</td>\n",
       "    </tr>\n",
       "    <tr>\n",
       "      <th>1</th>\n",
       "      <td>51342201204</td>\n",
       "      <td>4.0</td>\n",
       "      <td>5010220001</td>\n",
       "      <td>A</td>\n",
       "      <td>5</td>\n",
       "    </tr>\n",
       "    <tr>\n",
       "      <th>2</th>\n",
       "      <td>51342201198</td>\n",
       "      <td>4.0</td>\n",
       "      <td>5010230001</td>\n",
       "      <td>A</td>\n",
       "      <td>5</td>\n",
       "    </tr>\n",
       "    <tr>\n",
       "      <th>3</th>\n",
       "      <td>51342201143</td>\n",
       "      <td>4.0</td>\n",
       "      <td>5010240001</td>\n",
       "      <td>A</td>\n",
       "      <td>5</td>\n",
       "    </tr>\n",
       "    <tr>\n",
       "      <th>4</th>\n",
       "      <td>51342201167</td>\n",
       "      <td>4.0</td>\n",
       "      <td>5010250001</td>\n",
       "      <td>A</td>\n",
       "      <td>5</td>\n",
       "    </tr>\n",
       "  </tbody>\n",
       "</table>\n",
       "</div>"
      ],
      "text/plain": [
       "    COD_BARRAS  RESISTENCIA  REUBICACION ZONA NAVE\n",
       "0  51342179077          4.0   5010210001    A    5\n",
       "1  51342201204          4.0   5010220001    A    5\n",
       "2  51342201198          4.0   5010230001    A    5\n",
       "3  51342201143          4.0   5010240001    A    5\n",
       "4  51342201167          4.0   5010250001    A    5"
      ]
     },
     "execution_count": 8,
     "metadata": {},
     "output_type": "execute_result"
    }
   ],
   "source": [
    "REUBICACION_MAM2019.head()"
   ]
  },
  {
   "cell_type": "code",
   "execution_count": 7,
   "metadata": {},
   "outputs": [],
   "source": [
    "REUBICACION_MAM2019['NAVE']=REUBICACION_MAM2019['REUBICACION'].map(lambda x: str(x)[:1]) "
   ]
  },
  {
   "cell_type": "code",
   "execution_count": 14,
   "metadata": {},
   "outputs": [
    {
     "data": {
      "text/plain": [
       "NAVE\n",
       "1    2828\n",
       "2    4188\n",
       "3    4203\n",
       "4    2376\n",
       "5    3934\n",
       "dtype: int64"
      ]
     },
     "execution_count": 14,
     "metadata": {},
     "output_type": "execute_result"
    }
   ],
   "source": [
    "REUBICACION_MAM2019.groupby(\"NAVE\").size()"
   ]
  },
  {
   "cell_type": "code",
   "execution_count": null,
   "metadata": {},
   "outputs": [],
   "source": []
  }
 ],
 "metadata": {
  "kernelspec": {
   "display_name": "Python 3",
   "language": "python",
   "name": "python3"
  },
  "language_info": {
   "codemirror_mode": {
    "name": "ipython",
    "version": 3
   },
   "file_extension": ".py",
   "mimetype": "text/x-python",
   "name": "python",
   "nbconvert_exporter": "python",
   "pygments_lexer": "ipython3",
   "version": "3.5.3"
  }
 },
 "nbformat": 4,
 "nbformat_minor": 2
}
